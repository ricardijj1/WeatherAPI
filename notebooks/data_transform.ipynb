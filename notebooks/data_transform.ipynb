{
 "cells": [
  {
   "cell_type": "code",
   "execution_count": 4,
   "metadata": {},
   "outputs": [],
   "source": [
    "import pandas as pd\n",
    "import matplotlib.pyplot as plt"
   ]
  },
  {
   "cell_type": "code",
   "execution_count": 6,
   "metadata": {},
   "outputs": [],
   "source": [
    "#file path \n",
    "weather_data_file_path= (\"/Users/sa21/Desktop/weather_api/data/csv/weather_data_filtered.csv\")\n",
    "#Read the CSV file\n",
    "df = pd.read_csv(weather_data_file_path)\n",
    "# Convert 'time' to datetime format\n",
    "df['time'] = pd.to_datetime(df['time'])\n",
    "#set index \n",
    "df.set_index('time', inplace=True)\n",
    "#resampling temp, relative humidity. precipitation, surface pressure \n",
    "weather_monthly_medians = df.resample('ME')[['temperature','relative humidity','precipitation','surface pressure']].median()\n",
    "#saving to csv \n",
    "weather_monthly_medians.to_csv(\"/Users/sa21/Desktop/weather_api/data/csv/weather_monthly_medians.csv\")\n",
    "\n"
   ]
  },
  {
   "cell_type": "code",
   "execution_count": 13,
   "metadata": {},
   "outputs": [
    {
     "name": "stdout",
     "output_type": "stream",
     "text": [
      "            temperature  relative humidity  precipitation  surface pressure\n",
      "time                                                                       \n",
      "2022-12-31         18.6               78.0            0.0             911.4\n",
      "2023-12-31         20.7               78.0            0.0             913.4\n"
     ]
    }
   ],
   "source": [
    "df = pd.read_csv(weather_data_file_path)\n",
    "# Convert 'time' to datetime format\n",
    "df['time'] = pd.to_datetime(df['time'])\n",
    "\n",
    "#set index \n",
    "df.set_index('time', inplace=True)\n",
    "#resampling appropiate columns \n",
    "\n",
    "weather_yearly_medians = df.resample('YE')[['temperature','relative humidity','precipitation','surface pressure']].median()\n",
    "#saving to csv \n",
    "\n",
    "weather_yearly_medians.to_csv(\"/Users/sa21/Desktop/weather_api/data/csv/weather_yearly_medians.csv\")\n",
    "print(weather_yearly_medians)"
   ]
  },
  {
   "cell_type": "code",
   "execution_count": 18,
   "metadata": {},
   "outputs": [
    {
     "name": "stdout",
     "output_type": "stream",
     "text": [
      "            million_60kgs_bag  nonbear_mill_trees  bear_mill_trees  \\\n",
      "year                                                                 \n",
      "2002-12-31              16.20              1500.0           4465.0   \n",
      "2003-12-31              26.70              1125.0           5265.0   \n",
      "2004-12-31              14.40               631.0           5050.0   \n",
      "2005-12-31              21.40               466.0           5255.0   \n",
      "2006-12-31              16.30               581.0           5330.0   \n",
      "2007-12-31              23.70               563.0           5730.0   \n",
      "2008-12-31              16.85               679.0           5720.0   \n",
      "2009-12-31              25.55               663.0           5770.0   \n",
      "2010-12-31              22.10               873.0           5725.0   \n",
      "2011-12-31              28.50               815.0           5820.0   \n",
      "2012-12-31              23.50               835.0           5760.0   \n",
      "2013-12-31              28.50              1000.0           5860.0   \n",
      "2014-12-31              29.40              1055.0           5810.0   \n",
      "2015-12-31              26.00              1185.0           5770.0   \n",
      "2016-12-31              25.30              1125.0           5735.0   \n",
      "2017-12-31              32.50              1300.0           5640.0   \n",
      "2018-12-31              28.30                 NaN              NaN   \n",
      "2019-12-31              34.20              1150.0           5740.0   \n",
      "2020-12-31              29.10              1230.0           5700.0   \n",
      "2021-12-31              34.80              1050.0           6200.0   \n",
      "2022-12-31              24.50              1500.0           6010.0   \n",
      "2023-12-31              28.50              1510.0           6100.0   \n",
      "\n",
      "            avg_unemp_perc  \n",
      "year                        \n",
      "2002-12-31             NaN  \n",
      "2003-12-31             NaN  \n",
      "2004-12-31             NaN  \n",
      "2005-12-31             NaN  \n",
      "2006-12-31             NaN  \n",
      "2007-12-31             NaN  \n",
      "2008-12-31             NaN  \n",
      "2009-12-31             NaN  \n",
      "2010-12-31             NaN  \n",
      "2011-12-31             NaN  \n",
      "2012-12-31           6.975  \n",
      "2013-12-31           6.650  \n",
      "2014-12-31           6.800  \n",
      "2015-12-31           8.625  \n",
      "2016-12-31          11.200  \n",
      "2017-12-31          12.250  \n",
      "2018-12-31          10.775  \n",
      "2019-12-31          10.100  \n",
      "2020-12-31          12.750  \n",
      "2021-12-31          11.650  \n",
      "2022-12-31           7.150  \n",
      "2023-12-31             NaN  \n"
     ]
    }
   ],
   "source": [
    "#file path \n",
    "harvest_data_path = (\"/Users/sa21/Desktop/weather_api/data/csv/br_final.csv\")\n",
    "df = pd.read_csv(harvest_data_path)\n",
    "#filtering only Minas Gerais rows \n",
    "df = df[df['subdivision'] == 'Minas Gerais']\n",
    "df['year'] = pd.to_datetime(df['year'], format='%Y')\n",
    "\n",
    "df.set_index('year', inplace=True)\n",
    "\n",
    "harvest_yearly_medians = df.resample('YE')[['million_60kgs_bag','nonbear_mill_trees','bear_mill_trees','avg_unemp_perc']].median()\n",
    "#saving to csv \n",
    "harvest_yearly_medians.to_csv(\"/Users/sa21/Desktop/weather_api/data/csv/harvest_yearly_medians.csv\")\n",
    "\n",
    "print(harvest_yearly_medians)\n",
    "\n",
    "\n"
   ]
  },
  {
   "cell_type": "code",
   "execution_count": 19,
   "metadata": {},
   "outputs": [
    {
     "name": "stdout",
     "output_type": "stream",
     "text": [
      "         year  temperature  relative humidity  precipitation  \\\n",
      "0  2022-12-31         18.6               78.0            0.0   \n",
      "1  2023-12-31         20.7               78.0            0.0   \n",
      "\n",
      "   surface pressure  million_60kgs_bag  nonbear_mill_trees  bear_mill_trees  \\\n",
      "0             911.4               24.5              1500.0           6010.0   \n",
      "1             913.4               28.5              1510.0           6100.0   \n",
      "\n",
      "   avg_unemp_perc  \n",
      "0            7.15  \n",
      "1             NaN  \n"
     ]
    }
   ],
   "source": [
    "#Read the CSV files for yearly median and harvest data \n",
    "df1 = pd.read_csv(\"/Users/sa21/Desktop/weather_api/data/csv/weather_yearly_medians.csv\")\n",
    "df2 = pd.read_csv(\"/Users/sa21/Desktop/weather_api/data/csv/harvest_yearly_medians.csv\")\n",
    "#convert time columns to years to match \n",
    "df1.rename(columns={'time': 'year'}, inplace=True)\n",
    "df2.rename(columns={'Year': 'year'}, inplace=True)\n",
    "#merge harvest data and weather data \n",
    "harvest_and_weather = pd.merge(df1, df2, on='year')\n",
    "#save \n",
    "harvest_and_weather.to_csv(\"/Users/sa21/Desktop/weather_api/data/csv/harvest_and_weather.csv\",index=False)\n",
    "print(harvest_and_weather)\n"
   ]
  },
  {
   "cell_type": "code",
   "execution_count": null,
   "metadata": {},
   "outputs": [],
   "source": [
    "\n"
   ]
  },
  {
   "cell_type": "code",
   "execution_count": null,
   "metadata": {},
   "outputs": [],
   "source": []
  }
 ],
 "metadata": {
  "kernelspec": {
   "display_name": "base",
   "language": "python",
   "name": "python3"
  },
  "language_info": {
   "codemirror_mode": {
    "name": "ipython",
    "version": 3
   },
   "file_extension": ".py",
   "mimetype": "text/x-python",
   "name": "python",
   "nbconvert_exporter": "python",
   "pygments_lexer": "ipython3",
   "version": "3.12.7"
  }
 },
 "nbformat": 4,
 "nbformat_minor": 2
}

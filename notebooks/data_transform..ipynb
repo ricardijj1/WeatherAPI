{
 "cells": [
  {
   "cell_type": "code",
   "execution_count": 285,
   "metadata": {},
   "outputs": [],
   "source": [
    "import pandas as pd\n",
    "import numpy as np\n",
    "import os \n",
    "import matplotlib.pyplot as plt\n",
    "import seaborn as sns \n"
   ]
  },
  {
   "cell_type": "code",
   "execution_count": 286,
   "metadata": {},
   "outputs": [
    {
     "data": {
      "text/plain": [
       "'/Users/sa21/Desktop/weather_api/notebooks'"
      ]
     },
     "execution_count": 286,
     "metadata": {},
     "output_type": "execute_result"
    }
   ],
   "source": [
    "os.getcwd()"
   ]
  },
  {
   "cell_type": "code",
   "execution_count": 287,
   "metadata": {},
   "outputs": [],
   "source": [
    "#file path \n",
    "weather_data_file_path= (\"/Users/sa21/Desktop/weather_api/data/csv/weather_data_filtered.csv\")\n",
    "\n",
    "\n"
   ]
  },
  {
   "cell_type": "code",
   "execution_count": 288,
   "metadata": {},
   "outputs": [],
   "source": [
    "#Read the CSV file\n",
    "df = pd.read_csv(weather_data_file_path)\n",
    "# Convert 'time' to datetime format\n",
    "\n",
    "df['time'] = pd.to_datetime(df['time'])\n",
    "\n",
    "#set index \n",
    "df.set_index('time', inplace=True)\n",
    "\n",
    "#resampling temp, relative humidity. precipitation, surpass pressure \n",
    "\n",
    "monthly_medians = df.resample('ME')[['temperature','relative humidity','precipitation','surface pressure']].median()\n",
    "#saving to csv \n",
    "monthly_medians.to_csv(\"/Users/sa21/Desktop/weather_api/data/csv/monthly_media.csv\")\n"
   ]
  },
  {
   "cell_type": "code",
   "execution_count": 289,
   "metadata": {},
   "outputs": [],
   "source": [
    "df = pd.read_csv(weather_data_file_path)\n",
    "# Convert 'time' to datetime format\n",
    "df['time'] = pd.to_datetime(df['time'])\n",
    "\n",
    "#set index \n",
    "df.set_index('time', inplace=True)\n",
    "#resampling appropiate columns \n",
    "\n",
    "yearly_medians = df.resample('YE')[['temperature','relative humidity','precipitation','surface pressure']].median()\n",
    "#saving to csv \n",
    "yearly_medians.to_csv(\"/Users/sa21/Desktop/weather_api/data/csv/yearly_media.csv\")\n"
   ]
  },
  {
   "cell_type": "code",
   "execution_count": 343,
   "metadata": {},
   "outputs": [
    {
     "name": "stderr",
     "output_type": "stream",
     "text": [
      "/var/folders/vm/yw_yxkcd5l793rcmvv4s7ncm0000gn/T/ipykernel_46296/1015988059.py:10: FutureWarning: 'Y' is deprecated and will be removed in a future version, please use 'YE' instead.\n",
      "  br_yearly_medians = df.resample('Y')[['million_60kgs_bag','nonbear_mill_trees','bear_mill_trees','avg_unemp_perc']].median()\n"
     ]
    },
    {
     "data": {
      "text/plain": [
       "Index(['million_60kgs_bag', 'nonbear_mill_trees', 'bear_mill_trees',\n",
       "       'avg_unemp_perc'],\n",
       "      dtype='object')"
      ]
     },
     "execution_count": 343,
     "metadata": {},
     "output_type": "execute_result"
    }
   ],
   "source": [
    "#file path \n",
    "br_final_file_path = (\"/Users/sa21/Desktop/weather_api/data/csv/br_final.csv\")\n",
    "\n",
    "df = pd.read_csv(br_final_file_path)\n",
    "#filtering only Minas Gerais rows \n",
    "df = df[df['subdivision'] == 'Minas Gerais']\n",
    "df['year'] = pd.to_datetime(df['year'], format='%Y')\n",
    "df.set_index('year', inplace=True)\n",
    "\n",
    "br_yearly_medians = df.resample('Y')[['million_60kgs_bag','nonbear_mill_trees','bear_mill_trees','avg_unemp_perc']].median()\n",
    "#saving to csv \n",
    "br_yearly_medians.to_csv(\"/Users/sa21/Desktop/weather_api/data/csv/br_yearly_media.csv\")\n",
    "\n",
    "br_yearly_medians.columns\n",
    "\n"
   ]
  },
  {
   "cell_type": "code",
   "execution_count": 341,
   "metadata": {},
   "outputs": [
    {
     "name": "stdout",
     "output_type": "stream",
     "text": [
      "         year  temperature  relative humidity  precipitation  \\\n",
      "0  2022-12-31         18.6               78.0            0.0   \n",
      "1  2023-12-31         20.7               78.0            0.0   \n",
      "\n",
      "   surface pressure  million_60kgs_bag  nonbear_mill_trees  bear_mill_trees  \\\n",
      "0             911.4               24.5              1500.0           6010.0   \n",
      "1             913.4               28.5              1510.0           6100.0   \n",
      "\n",
      "   avg_unemp_perc  \n",
      "0            7.15  \n",
      "1             NaN  \n",
      "         year  temperature  relative humidity  precipitation  surface pressure\n",
      "0  2022-12-31         18.6               78.0            0.0             911.4\n",
      "1  2023-12-31         20.7               78.0            0.0             913.4\n",
      "          year  million_60kgs_bag  nonbear_mill_trees  bear_mill_trees  \\\n",
      "0   2002-12-31              16.20              1500.0           4465.0   \n",
      "1   2003-12-31              26.70              1125.0           5265.0   \n",
      "2   2004-12-31              14.40               631.0           5050.0   \n",
      "3   2005-12-31              21.40               466.0           5255.0   \n",
      "4   2006-12-31              16.30               581.0           5330.0   \n",
      "5   2007-12-31              23.70               563.0           5730.0   \n",
      "6   2008-12-31              16.85               679.0           5720.0   \n",
      "7   2009-12-31              25.55               663.0           5770.0   \n",
      "8   2010-12-31              22.10               873.0           5725.0   \n",
      "9   2011-12-31              28.50               815.0           5820.0   \n",
      "10  2012-12-31              23.50               835.0           5760.0   \n",
      "11  2013-12-31              28.50              1000.0           5860.0   \n",
      "12  2014-12-31              29.40              1055.0           5810.0   \n",
      "13  2015-12-31              26.00              1185.0           5770.0   \n",
      "14  2016-12-31              25.30              1125.0           5735.0   \n",
      "15  2017-12-31              32.50              1300.0           5640.0   \n",
      "16  2018-12-31              28.30                 NaN              NaN   \n",
      "17  2019-12-31              34.20              1150.0           5740.0   \n",
      "18  2020-12-31              29.10              1230.0           5700.0   \n",
      "19  2021-12-31              34.80              1050.0           6200.0   \n",
      "20  2022-12-31              24.50              1500.0           6010.0   \n",
      "21  2023-12-31              28.50              1510.0           6100.0   \n",
      "\n",
      "    avg_unemp_perc  \n",
      "0              NaN  \n",
      "1              NaN  \n",
      "2              NaN  \n",
      "3              NaN  \n",
      "4              NaN  \n",
      "5              NaN  \n",
      "6              NaN  \n",
      "7              NaN  \n",
      "8              NaN  \n",
      "9              NaN  \n",
      "10           6.975  \n",
      "11           6.650  \n",
      "12           6.800  \n",
      "13           8.625  \n",
      "14          11.200  \n",
      "15          12.250  \n",
      "16          10.775  \n",
      "17          10.100  \n",
      "18          12.750  \n",
      "19          11.650  \n",
      "20           7.150  \n",
      "21             NaN  \n"
     ]
    }
   ],
   "source": [
    "\n",
    "\n",
    "\n",
    "df1 = pd.read_csv(\"/Users/sa21/Desktop/weather_api/data/csv/yearly_media.csv\")\n",
    "df2 = pd.read_csv(\"/Users/sa21/Desktop/weather_api/data/csv/br_yearly_media.csv\")\n",
    "\n",
    "df1.rename(columns={'time': 'year'}, inplace=True)\n",
    "df2.rename(columns={'Year': 'year'}, inplace=True)\n",
    "\n",
    "merged_df = pd.merge(df1, df2, on='year')\n",
    "\n",
    "merged_df.to_csv(\"/Users/sa21/Desktop/weather_api/data/csv/combined_median.csv\")\n",
    "\n",
    "\n",
    "print(merged_df)\n",
    "print(df1)\n",
    "print(df2)\n",
    "\n",
    "\n",
    "\n",
    "\n",
    "\n",
    "\n",
    "\n",
    "\n",
    "\n",
    "\n"
   ]
  },
  {
   "cell_type": "code",
   "execution_count": null,
   "metadata": {},
   "outputs": [],
   "source": [
    "\n"
   ]
  },
  {
   "cell_type": "code",
   "execution_count": null,
   "metadata": {},
   "outputs": [],
   "source": []
  }
 ],
 "metadata": {
  "kernelspec": {
   "display_name": "ds",
   "language": "python",
   "name": "python3"
  },
  "language_info": {
   "codemirror_mode": {
    "name": "ipython",
    "version": 3
   },
   "file_extension": ".py",
   "mimetype": "text/x-python",
   "name": "python",
   "nbconvert_exporter": "python",
   "pygments_lexer": "ipython3",
   "version": "3.12.7"
  }
 },
 "nbformat": 4,
 "nbformat_minor": 2
}

{
 "cells": [
  {
   "cell_type": "code",
   "execution_count": 256,
   "metadata": {},
   "outputs": [],
   "source": [
    "import pandas as pd\n",
    "import numpy as np\n",
    "import os \n",
    "import matplotlib.pyplot as plt\n",
    "import seaborn as sns \n"
   ]
  },
  {
   "cell_type": "code",
   "execution_count": 257,
   "metadata": {},
   "outputs": [
    {
     "data": {
      "text/plain": [
       "'/Users/sa21/Desktop/weather_api/notebooks'"
      ]
     },
     "execution_count": 257,
     "metadata": {},
     "output_type": "execute_result"
    }
   ],
   "source": [
    "os.getcwd()"
   ]
  },
  {
   "cell_type": "code",
   "execution_count": 258,
   "metadata": {},
   "outputs": [],
   "source": [
    "\n",
    "weather_data_file_path= (\"/Users/sa21/Desktop/weather_api/data/csv/weather_data_filtered.csv\")\n",
    "\n",
    "\n"
   ]
  },
  {
   "cell_type": "code",
   "execution_count": 259,
   "metadata": {},
   "outputs": [],
   "source": [
    "df = pd.read_csv(weather_data_file_path)\n",
    "df['time'] = pd.to_datetime(df['time'])\n",
    "\n",
    "\n",
    "df.set_index('time', inplace=True)\n",
    "\n",
    "\n",
    "monthly_medians = df.resample('ME')[['temperature','relative humidity','precipitation','surface pressure']].median()\n",
    "\n",
    "monthly_medians.to_csv(\"/Users/sa21/Desktop/weather_api/data/csv/monthly_media.csv\")\n"
   ]
  },
  {
   "cell_type": "code",
   "execution_count": 260,
   "metadata": {},
   "outputs": [],
   "source": [
    "df = pd.read_csv(weather_data_file_path)\n",
    "df['time'] = pd.to_datetime(df['time'])\n",
    "\n",
    "\n",
    "df.set_index('time', inplace=True)\n",
    "\n",
    "\n",
    "yearly_medians = df.resample('YE')[['temperature','relative humidity','precipitation','surface pressure']].median()\n",
    "\n",
    "yearly_medians.to_csv(\"/Users/sa21/Desktop/weather_api/data/csv/yearly_media.csv\")\n"
   ]
  },
  {
   "cell_type": "code",
   "execution_count": 273,
   "metadata": {},
   "outputs": [
    {
     "name": "stderr",
     "output_type": "stream",
     "text": [
      "/var/folders/vm/yw_yxkcd5l793rcmvv4s7ncm0000gn/T/ipykernel_46296/3385134275.py:9: FutureWarning: 'Y' is deprecated and will be removed in a future version, please use 'YE' instead.\n",
      "  br_yearly_medians = df.resample('Y')[['million_60kgs_bag','nonbear_mill_trees','bear_mill_trees','avg_unemp_perc']].median()\n"
     ]
    },
    {
     "data": {
      "text/html": [
       "<div>\n",
       "<style scoped>\n",
       "    .dataframe tbody tr th:only-of-type {\n",
       "        vertical-align: middle;\n",
       "    }\n",
       "\n",
       "    .dataframe tbody tr th {\n",
       "        vertical-align: top;\n",
       "    }\n",
       "\n",
       "    .dataframe thead th {\n",
       "        text-align: right;\n",
       "    }\n",
       "</style>\n",
       "<table border=\"1\" class=\"dataframe\">\n",
       "  <thead>\n",
       "    <tr style=\"text-align: right;\">\n",
       "      <th></th>\n",
       "      <th>million_60kgs_bag</th>\n",
       "      <th>nonbear_mill_trees</th>\n",
       "      <th>bear_mill_trees</th>\n",
       "      <th>avg_unemp_perc</th>\n",
       "    </tr>\n",
       "    <tr>\n",
       "      <th>year</th>\n",
       "      <th></th>\n",
       "      <th></th>\n",
       "      <th></th>\n",
       "      <th></th>\n",
       "    </tr>\n",
       "  </thead>\n",
       "  <tbody>\n",
       "    <tr>\n",
       "      <th>2012-12-31</th>\n",
       "      <td>23.5</td>\n",
       "      <td>835.0</td>\n",
       "      <td>5760.0</td>\n",
       "      <td>6.975</td>\n",
       "    </tr>\n",
       "    <tr>\n",
       "      <th>2013-12-31</th>\n",
       "      <td>28.5</td>\n",
       "      <td>1000.0</td>\n",
       "      <td>5860.0</td>\n",
       "      <td>6.650</td>\n",
       "    </tr>\n",
       "    <tr>\n",
       "      <th>2014-12-31</th>\n",
       "      <td>29.4</td>\n",
       "      <td>1055.0</td>\n",
       "      <td>5810.0</td>\n",
       "      <td>6.800</td>\n",
       "    </tr>\n",
       "    <tr>\n",
       "      <th>2015-12-31</th>\n",
       "      <td>26.0</td>\n",
       "      <td>1185.0</td>\n",
       "      <td>5770.0</td>\n",
       "      <td>8.625</td>\n",
       "    </tr>\n",
       "    <tr>\n",
       "      <th>2016-12-31</th>\n",
       "      <td>25.3</td>\n",
       "      <td>1125.0</td>\n",
       "      <td>5735.0</td>\n",
       "      <td>11.200</td>\n",
       "    </tr>\n",
       "    <tr>\n",
       "      <th>2017-12-31</th>\n",
       "      <td>32.5</td>\n",
       "      <td>1300.0</td>\n",
       "      <td>5640.0</td>\n",
       "      <td>12.250</td>\n",
       "    </tr>\n",
       "    <tr>\n",
       "      <th>2018-12-31</th>\n",
       "      <td>NaN</td>\n",
       "      <td>NaN</td>\n",
       "      <td>NaN</td>\n",
       "      <td>NaN</td>\n",
       "    </tr>\n",
       "    <tr>\n",
       "      <th>2019-12-31</th>\n",
       "      <td>34.2</td>\n",
       "      <td>1150.0</td>\n",
       "      <td>5740.0</td>\n",
       "      <td>10.100</td>\n",
       "    </tr>\n",
       "    <tr>\n",
       "      <th>2020-12-31</th>\n",
       "      <td>29.1</td>\n",
       "      <td>1230.0</td>\n",
       "      <td>5700.0</td>\n",
       "      <td>12.750</td>\n",
       "    </tr>\n",
       "    <tr>\n",
       "      <th>2021-12-31</th>\n",
       "      <td>34.8</td>\n",
       "      <td>1050.0</td>\n",
       "      <td>6200.0</td>\n",
       "      <td>11.650</td>\n",
       "    </tr>\n",
       "    <tr>\n",
       "      <th>2022-12-31</th>\n",
       "      <td>24.5</td>\n",
       "      <td>1500.0</td>\n",
       "      <td>6010.0</td>\n",
       "      <td>7.150</td>\n",
       "    </tr>\n",
       "  </tbody>\n",
       "</table>\n",
       "</div>"
      ],
      "text/plain": [
       "            million_60kgs_bag  nonbear_mill_trees  bear_mill_trees  \\\n",
       "year                                                                 \n",
       "2012-12-31               23.5               835.0           5760.0   \n",
       "2013-12-31               28.5              1000.0           5860.0   \n",
       "2014-12-31               29.4              1055.0           5810.0   \n",
       "2015-12-31               26.0              1185.0           5770.0   \n",
       "2016-12-31               25.3              1125.0           5735.0   \n",
       "2017-12-31               32.5              1300.0           5640.0   \n",
       "2018-12-31                NaN                 NaN              NaN   \n",
       "2019-12-31               34.2              1150.0           5740.0   \n",
       "2020-12-31               29.1              1230.0           5700.0   \n",
       "2021-12-31               34.8              1050.0           6200.0   \n",
       "2022-12-31               24.5              1500.0           6010.0   \n",
       "\n",
       "            avg_unemp_perc  \n",
       "year                        \n",
       "2012-12-31           6.975  \n",
       "2013-12-31           6.650  \n",
       "2014-12-31           6.800  \n",
       "2015-12-31           8.625  \n",
       "2016-12-31          11.200  \n",
       "2017-12-31          12.250  \n",
       "2018-12-31             NaN  \n",
       "2019-12-31          10.100  \n",
       "2020-12-31          12.750  \n",
       "2021-12-31          11.650  \n",
       "2022-12-31           7.150  "
      ]
     },
     "execution_count": 273,
     "metadata": {},
     "output_type": "execute_result"
    }
   ],
   "source": [
    "br_final_file_path = (\"/Users/sa21/Desktop/weather_api/data/csv/br_final.csv\")\n",
    "\n",
    "df = pd.read_csv(br_final_file_path)\n",
    "\n",
    "df = df[df['subdivision'] == 'Minas Gerais']\n",
    "df['year'] = pd.to_datetime(df['year'], format='%Y')\n",
    "df.set_index('year', inplace=True)\n",
    "df.dropna(inplace=True)\n",
    "br_yearly_medians = df.resample('Y')[['million_60kgs_bag','nonbear_mill_trees','bear_mill_trees','avg_unemp_perc']].median()\n",
    "\n",
    "br_yearly_medians.to_csv(\"/Users/sa21/Desktop/weather_api/data/csv/br_yearly_media.csv\")\n",
    "\n",
    "br_yearly_medians\n",
    "\n"
   ]
  },
  {
   "cell_type": "code",
   "execution_count": 269,
   "metadata": {},
   "outputs": [
    {
     "ename": "ValueError",
     "evalue": "DataFrame constructor not properly called!",
     "output_type": "error",
     "traceback": [
      "\u001b[0;31m---------------------------------------------------------------------------\u001b[0m",
      "\u001b[0;31mValueError\u001b[0m                                Traceback (most recent call last)",
      "\u001b[0;32m/var/folders/vm/yw_yxkcd5l793rcmvv4s7ncm0000gn/T/ipykernel_46296/346666646.py\u001b[0m in \u001b[0;36m?\u001b[0;34m()\u001b[0m\n\u001b[1;32m      1\u001b[0m \u001b[0mweather_data_file_path\u001b[0m\u001b[0;34m=\u001b[0m \u001b[0;34m(\u001b[0m\u001b[0;34m\"/Users/sa21/Desktop/weather_api/data/csv/weather_data_filtered.csv\"\u001b[0m\u001b[0;34m)\u001b[0m\u001b[0;34m\u001b[0m\u001b[0;34m\u001b[0m\u001b[0m\n\u001b[1;32m      2\u001b[0m \u001b[0;34m\u001b[0m\u001b[0m\n\u001b[0;32m----> 3\u001b[0;31m \u001b[0mdf1\u001b[0m \u001b[0;34m=\u001b[0m \u001b[0mpd\u001b[0m\u001b[0;34m.\u001b[0m\u001b[0mDataFrame\u001b[0m\u001b[0;34m(\u001b[0m\u001b[0mweather_data_file_path\u001b[0m\u001b[0;34m)\u001b[0m\u001b[0;34m\u001b[0m\u001b[0;34m\u001b[0m\u001b[0m\n\u001b[0m\u001b[1;32m      4\u001b[0m \u001b[0;34m\u001b[0m\u001b[0m\n\u001b[1;32m      5\u001b[0m \u001b[0;34m\u001b[0m\u001b[0m\n",
      "\u001b[0;32m/opt/miniconda3/envs/ds/lib/python3.12/site-packages/pandas/core/frame.py\u001b[0m in \u001b[0;36m?\u001b[0;34m(self, data, index, columns, dtype, copy)\u001b[0m\n\u001b[1;32m    882\u001b[0m                 \u001b[0;34m)\u001b[0m\u001b[0;34m\u001b[0m\u001b[0;34m\u001b[0m\u001b[0m\n\u001b[1;32m    883\u001b[0m         \u001b[0;31m# For data is scalar\u001b[0m\u001b[0;34m\u001b[0m\u001b[0;34m\u001b[0m\u001b[0m\n\u001b[1;32m    884\u001b[0m         \u001b[0;32melse\u001b[0m\u001b[0;34m:\u001b[0m\u001b[0;34m\u001b[0m\u001b[0;34m\u001b[0m\u001b[0m\n\u001b[1;32m    885\u001b[0m             \u001b[0;32mif\u001b[0m \u001b[0mindex\u001b[0m \u001b[0;32mis\u001b[0m \u001b[0;32mNone\u001b[0m \u001b[0;32mor\u001b[0m \u001b[0mcolumns\u001b[0m \u001b[0;32mis\u001b[0m \u001b[0;32mNone\u001b[0m\u001b[0;34m:\u001b[0m\u001b[0;34m\u001b[0m\u001b[0;34m\u001b[0m\u001b[0m\n\u001b[0;32m--> 886\u001b[0;31m                 \u001b[0;32mraise\u001b[0m \u001b[0mValueError\u001b[0m\u001b[0;34m(\u001b[0m\u001b[0;34m\"DataFrame constructor not properly called!\"\u001b[0m\u001b[0;34m)\u001b[0m\u001b[0;34m\u001b[0m\u001b[0;34m\u001b[0m\u001b[0m\n\u001b[0m\u001b[1;32m    887\u001b[0m \u001b[0;34m\u001b[0m\u001b[0m\n\u001b[1;32m    888\u001b[0m             \u001b[0mindex\u001b[0m \u001b[0;34m=\u001b[0m \u001b[0mensure_index\u001b[0m\u001b[0;34m(\u001b[0m\u001b[0mindex\u001b[0m\u001b[0;34m)\u001b[0m\u001b[0;34m\u001b[0m\u001b[0;34m\u001b[0m\u001b[0m\n\u001b[1;32m    889\u001b[0m             \u001b[0mcolumns\u001b[0m \u001b[0;34m=\u001b[0m \u001b[0mensure_index\u001b[0m\u001b[0;34m(\u001b[0m\u001b[0mcolumns\u001b[0m\u001b[0;34m)\u001b[0m\u001b[0;34m\u001b[0m\u001b[0;34m\u001b[0m\u001b[0m\n",
      "\u001b[0;31mValueError\u001b[0m: DataFrame constructor not properly called!"
     ]
    }
   ],
   "source": [
    "\n",
    "weather_data_file_path= (\"/Users/sa21/Desktop/weather_api/data/csv/weather_data_filtered.csv\")\n",
    "\n",
    "df1 = pd.DataFrame(weather_data_file_path)\n",
    "\n",
    "\n"
   ]
  },
  {
   "cell_type": "code",
   "execution_count": 263,
   "metadata": {},
   "outputs": [
    {
     "name": "stdout",
     "output_type": "stream",
     "text": [
      "<class 'pandas.core.frame.DataFrame'>\n",
      "DatetimeIndex: 24 entries, 2022-01-31 to 2023-12-31\n",
      "Freq: ME\n",
      "Data columns (total 4 columns):\n",
      " #   Column             Non-Null Count  Dtype  \n",
      "---  ------             --------------  -----  \n",
      " 0   temperature        24 non-null     float64\n",
      " 1   relative humidity  24 non-null     float64\n",
      " 2   precipitation      24 non-null     float64\n",
      " 3   surface pressure   24 non-null     float64\n",
      "dtypes: float64(4)\n",
      "memory usage: 960.0 bytes\n"
     ]
    }
   ],
   "source": [
    "\n",
    "monthly_medians.info()"
   ]
  },
  {
   "cell_type": "code",
   "execution_count": null,
   "metadata": {},
   "outputs": [],
   "source": []
  }
 ],
 "metadata": {
  "kernelspec": {
   "display_name": "ds",
   "language": "python",
   "name": "python3"
  },
  "language_info": {
   "codemirror_mode": {
    "name": "ipython",
    "version": 3
   },
   "file_extension": ".py",
   "mimetype": "text/x-python",
   "name": "python",
   "nbconvert_exporter": "python",
   "pygments_lexer": "ipython3",
   "version": "3.12.7"
  }
 },
 "nbformat": 4,
 "nbformat_minor": 2
}
